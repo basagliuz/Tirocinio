{
  "nbformat": 4,
  "nbformat_minor": 0,
  "metadata": {
    "colab": {
      "provenance": [],
      "authorship_tag": "ABX9TyPQ8U+oHS4sTWyQp0xGJ0Ig",
      "include_colab_link": true
    },
    "kernelspec": {
      "name": "python3",
      "display_name": "Python 3"
    },
    "language_info": {
      "name": "python"
    }
  },
  "cells": [
    {
      "cell_type": "markdown",
      "metadata": {
        "id": "view-in-github",
        "colab_type": "text"
      },
      "source": [
        "<a href=\"https://colab.research.google.com/github/basagliuz/Tirocinio/blob/main/Answers.ipynb\" target=\"_parent\"><img src=\"https://colab.research.google.com/assets/colab-badge.svg\" alt=\"Open In Colab\"/></a>"
      ]
    },
    {
      "cell_type": "markdown",
      "source": [
        "# Challenge 4\n",
        "- Use the data file \"challenge3.gwf\" with channels \"H1:CHALLENGE3\" and \"L1:CHALLENGE3\".\n",
        "- These are real LIGO data from O2, though we've adjusted the time labels - and added some simulated signals.\n",
        "- Any simulated signals have been added to both the H1 and L1 data.\n",
        "- All simulated signals have 0 spin and m1=m2, with m1 somewhere in the range 10-50 solar masses."
      ],
      "metadata": {
        "id": "GeQupiswqe-X"
      }
    },
    {
      "cell_type": "markdown",
      "source": [
        "To load data in google co-lab. Run this code, and then 'restart runtime', and run it again."
      ],
      "metadata": {
        "id": "p8CqU7_uq3IN"
      }
    },
    {
      "cell_type": "code",
      "source": [
        "! pip install -q lalsuite\n",
        "! pip install -q gwpy\n",
        "! pip install -q pycbc\n",
        "# -- Click \"restart runtime\" in the runtime menu\n",
        "\n",
        "# -- download data\n",
        "! wget https://dcc.ligo.org/public/0187/G2300818/001/challenge3.gwf\n",
        "\n",
        "# -- for gwpy\n",
        "from gwpy.timeseries import TimeSeries\n",
        "gwpy_strain = TimeSeries.read('challenge3.gwf', channel=\"H1:CHALLENGE3\")\n",
        "\n",
        "# -- for pycbc\n",
        "from pycbc import frame\n",
        "pycbc_strain = frame.read_frame('challenge3.gwf', 'H1:CHALLENGE3')"
      ],
      "metadata": {
        "id": "Ar7SnEfeqyGW"
      },
      "execution_count": null,
      "outputs": []
    },
    {
      "cell_type": "markdown",
      "source": [
        "## Questions\n",
        "1. Identify as many signals as you can. Watch out! These are real data, and so glitches may be present. Any correct detection is +1 point but any false alarms will count -1 point against your score. For each signal you find, list:\n",
        "  - the merger time;\n",
        "  - the SNR;\n",
        "  - your estimate of the component masses.\n",
        "2. Identify as many glitches as you can. Make a spectrogram of each one.\n",
        "3. For each simulated BBH you found, use bilby to compute a posterior distribution for the mass. You can fix the spin and mass ratio to make this run faster.\n",
        "\n"
      ],
      "metadata": {
        "id": "pnkaQdG3q97M"
      }
    }
  ]
}